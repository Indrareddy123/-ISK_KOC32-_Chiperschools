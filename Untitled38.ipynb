{
  "cells": [
    {
      "cell_type": "markdown",
      "metadata": {
        "id": "view-in-github",
        "colab_type": "text"
      },
      "source": [
        "<a href=\"https://colab.research.google.com/github/Indrareddy123/-ISK_KOC32-_Chiperschools/blob/main/Untitled38.ipynb\" target=\"_parent\"><img src=\"https://colab.research.google.com/assets/colab-badge.svg\" alt=\"Open In Colab\"/></a>"
      ]
    },
    {
      "cell_type": "code",
      "execution_count": null,
      "metadata": {
        "colab": {
          "base_uri": "https://localhost:8080/"
        },
        "id": "4FuuL9tBlDP2",
        "outputId": "80e36da3-8c94-4b0d-cd28-1db3a6dda5bd"
      },
      "outputs": [
        {
          "output_type": "stream",
          "name": "stderr",
          "text": [
            "[nltk_data] Downloading package stopwords to /root/nltk_data...\n",
            "[nltk_data]   Package stopwords is already up-to-date!\n",
            "[nltk_data] Downloading package wordnet to /root/nltk_data...\n",
            "[nltk_data]   Package wordnet is already up-to-date!\n"
          ]
        },
        {
          "output_type": "stream",
          "name": "stdout",
          "text": [
            "Chatbot: Hello! How can I help you today?\n",
            "You: president\n",
            "Chatbot: As of now, it's Trump.\n",
            "You: exit\n",
            "Chatbot: Goodbye!\n"
          ]
        }
      ],
      "source": [
        "import pandas as pd\n",
        "import numpy as np\n",
        "import string\n",
        "from sklearn.feature_extraction.text import TfidfVectorizer\n",
        "from sklearn.linear_model import LogisticRegression\n",
        "from nltk.corpus import stopwords\n",
        "from nltk.stem import WordNetLemmatizer\n",
        "import nltk\n",
        "\n",
        "# Download stopwords and wordnet from nltk\n",
        "nltk.download('stopwords')\n",
        "nltk.download('wordnet')\n",
        "\n",
        "# Initialize the lemmatizer and stopwords list\n",
        "lemmatizer = WordNetLemmatizer()\n",
        "stop_words = set(stopwords.words('english'))\n",
        "\n",
        "# Load your CSV dataset\n",
        "df = pd.read_csv('nlp_project.csv')\n",
        "\n",
        "# Extract questions and responses from the CSV\n",
        "questions = df['question'].tolist()\n",
        "responses = df['response'].tolist()\n",
        "\n",
        "# Preprocessing function to clean and prepare text\n",
        "def preprocess(text):\n",
        "    # Check if text is a string and handle non-string values\n",
        "    if not isinstance(text, str):\n",
        "        text = ''\n",
        "\n",
        "    # Lowercase the text\n",
        "    text = text.lower()\n",
        "\n",
        "    # Remove punctuation\n",
        "    text = text.translate(str.maketrans('', '', string.punctuation))\n",
        "\n",
        "    # Tokenize, remove stopwords, and lemmatize\n",
        "    words = text.split()\n",
        "    words = [lemmatizer.lemmatize(word) for word in words if word not in stop_words]\n",
        "\n",
        "    # Join words back into a single string\n",
        "    return ' '.join(words)\n",
        "\n",
        "# Preprocess all questions\n",
        "preprocessed_questions = [preprocess(question) for question in questions]\n",
        "\n",
        "# Initialize the TF-IDF vectorizer\n",
        "vectorizer = TfidfVectorizer()\n",
        "\n",
        "# Transform the preprocessed questions into TF-IDF vectors\n",
        "X = vectorizer.fit_transform(preprocessed_questions)\n",
        "\n",
        "# Create target labels for responses (using index of each response)\n",
        "y = np.arange(len(responses))\n",
        "\n",
        "# Initialize logistic regression model\n",
        "model = LogisticRegression()\n",
        "\n",
        "# Train the model using the TF-IDF vectors and the corresponding response indices\n",
        "model.fit(X, y)\n",
        "\n",
        "# Function to find the best response based on user input\n",
        "def get_best_response(user_input):\n",
        "    # Preprocess the user input\n",
        "    user_input = preprocess(user_input)\n",
        "\n",
        "    # Transform the user input into a TF-IDF vector\n",
        "    user_input_tfidf = vectorizer.transform([user_input])\n",
        "\n",
        "    # Use logistic regression to predict the index of the best response\n",
        "    predicted_index = model.predict(user_input_tfidf)[0]\n",
        "\n",
        "    # Return the response corresponding to the predicted index\n",
        "    return responses[predicted_index]\n",
        "\n",
        "# Chatbot loop\n",
        "print(\"Chatbot: Hello! How can I help you today?\")\n",
        "while True:\n",
        "    user_input = input(\"You: \")\n",
        "    if user_input.lower() in ['exit', 'quit', 'bye']:\n",
        "        print(\"Chatbot: Goodbye!\")\n",
        "        break\n",
        "    response = get_best_response(user_input)\n",
        "    print(f\"Chatbot: {response}\")\n"
      ]
    }
  ],
  "metadata": {
    "colab": {
      "provenance": [],
      "authorship_tag": "ABX9TyPGNvJAznaU2cICxUvJygNx",
      "include_colab_link": true
    },
    "kernelspec": {
      "display_name": "Python 3",
      "name": "python3"
    },
    "language_info": {
      "name": "python"
    }
  },
  "nbformat": 4,
  "nbformat_minor": 0
}